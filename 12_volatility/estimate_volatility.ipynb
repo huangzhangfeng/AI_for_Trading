{
 "cells": [
  {
   "cell_type": "code",
   "execution_count": 1,
   "metadata": {},
   "outputs": [
    {
     "name": "stdout",
     "output_type": "stream",
     "text": [
      "EWM [com=2.333333333333333,min_periods=0,adjust=True,ignore_na=False,axis=0]\n"
     ]
    },
    {
     "ename": "TypeError",
     "evalue": "unsupported format string passed to NoneType.__format__",
     "output_type": "error",
     "traceback": [
      "\u001b[0;31m---------------------------------------------------------------------------\u001b[0m",
      "\u001b[0;31mTypeError\u001b[0m                                 Traceback (most recent call last)",
      "\u001b[0;32m<ipython-input-1-39ce9d23716b>\u001b[0m in \u001b[0;36m<module>\u001b[0;34m()\u001b[0m\n\u001b[1;32m     33\u001b[0m \u001b[0;34m\u001b[0m\u001b[0m\n\u001b[1;32m     34\u001b[0m \u001b[0;34m\u001b[0m\u001b[0m\n\u001b[0;32m---> 35\u001b[0;31m \u001b[0mtest_run\u001b[0m\u001b[0;34m(\u001b[0m\u001b[0;34m)\u001b[0m\u001b[0;34m\u001b[0m\u001b[0m\n\u001b[0m",
      "\u001b[0;32m<ipython-input-1-39ce9d23716b>\u001b[0m in \u001b[0;36mtest_run\u001b[0;34m(filename)\u001b[0m\n\u001b[1;32m     29\u001b[0m     \u001b[0;34m\"\"\"Test run get_most_volatile() with stock prices from a file.\"\"\"\u001b[0m\u001b[0;34m\u001b[0m\u001b[0m\n\u001b[1;32m     30\u001b[0m     \u001b[0mprices\u001b[0m \u001b[0;34m=\u001b[0m \u001b[0mpd\u001b[0m\u001b[0;34m.\u001b[0m\u001b[0mread_csv\u001b[0m\u001b[0;34m(\u001b[0m\u001b[0mfilename\u001b[0m\u001b[0;34m,\u001b[0m \u001b[0mparse_dates\u001b[0m\u001b[0;34m=\u001b[0m\u001b[0;34m[\u001b[0m\u001b[0;34m'date'\u001b[0m\u001b[0;34m]\u001b[0m\u001b[0;34m,\u001b[0m \u001b[0mindex_col\u001b[0m\u001b[0;34m=\u001b[0m\u001b[0;34m'date'\u001b[0m\u001b[0;34m,\u001b[0m \u001b[0msqueeze\u001b[0m\u001b[0;34m=\u001b[0m\u001b[0;32mTrue\u001b[0m\u001b[0;34m)\u001b[0m\u001b[0;34m\u001b[0m\u001b[0m\n\u001b[0;32m---> 31\u001b[0;31m     \u001b[0mprint\u001b[0m\u001b[0;34m(\u001b[0m\u001b[0;34m\"Most recent volatility estimate: {:.6f}\"\u001b[0m\u001b[0;34m.\u001b[0m\u001b[0mformat\u001b[0m\u001b[0;34m(\u001b[0m\u001b[0mestimate_volatility\u001b[0m\u001b[0;34m(\u001b[0m\u001b[0mprices\u001b[0m\u001b[0;34m,\u001b[0m \u001b[0;36m0.7\u001b[0m\u001b[0;34m)\u001b[0m\u001b[0;34m)\u001b[0m\u001b[0;34m)\u001b[0m\u001b[0;34m\u001b[0m\u001b[0m\n\u001b[0m\u001b[1;32m     32\u001b[0m \u001b[0;34m\u001b[0m\u001b[0m\n\u001b[1;32m     33\u001b[0m \u001b[0;34m\u001b[0m\u001b[0m\n",
      "\u001b[0;31mTypeError\u001b[0m: unsupported format string passed to NoneType.__format__"
     ]
    }
   ],
   "source": [
    "import pandas as pd\n",
    "import numpy as np\n",
    "\n",
    "def estimate_volatility(prices, l):\n",
    "    \"\"\"Create an exponential moving average model of the volatility of a stock\n",
    "    price, and return the most recent (last) volatility estimate.\n",
    "    \n",
    "    Parameters\n",
    "    ----------\n",
    "    prices : pandas.Series\n",
    "        A series of adjusted closing prices for a stock.\n",
    "        \n",
    "    l : float\n",
    "        The 'lambda' parameter of the exponential moving average model. Making\n",
    "        this value smaller will cause the model to weight older terms less \n",
    "        relative to more recent terms.\n",
    "        \n",
    "    Returns\n",
    "    -------\n",
    "    last_vol : float\n",
    "        The last element of your exponential moving averge volatility model series.\n",
    "    \n",
    "    \"\"\"\n",
    "    # TODO: Implement the exponential moving average volatility model and return the last value.\n",
    "    \n",
    "    print(prices.ewm(alpha = 1 - l))\n",
    "    pass\n",
    "    \n",
    "def test_run(filename='data.csv'):\n",
    "    \"\"\"Test run get_most_volatile() with stock prices from a file.\"\"\"\n",
    "    prices = pd.read_csv(filename, parse_dates=['date'], index_col='date', squeeze=True)\n",
    "    print(\"Most recent volatility estimate: {:.6f}\".format(estimate_volatility(prices, 0.7)))\n",
    "\n",
    "\n",
    "\n",
    "test_run()"
   ]
  },
  {
   "cell_type": "code",
   "execution_count": 3,
   "metadata": {},
   "outputs": [
    {
     "data": {
      "text/plain": [
       "date\n",
       "2013-07-02    558.460000\n",
       "2013-07-03    556.617926\n",
       "2013-07-05    558.441898\n",
       "2013-07-08    556.181508\n",
       "2013-07-09    558.742118\n",
       "Name: price, dtype: float64"
      ]
     },
     "execution_count": 3,
     "metadata": {},
     "output_type": "execute_result"
    }
   ],
   "source": [
    "prices = pd.read_csv('data.csv', parse_dates=['date'], index_col='date', squeeze=True)\n",
    "prices.head(5)"
   ]
  },
  {
   "cell_type": "code",
   "execution_count": 17,
   "metadata": {},
   "outputs": [
    {
     "data": {
      "text/plain": [
       "date\n",
       "2013-07-02           NaN\n",
       "2013-07-03    558.460000\n",
       "2013-07-05    556.617926\n",
       "2013-07-08    558.441898\n",
       "2013-07-09    556.181508\n",
       "2013-07-10    558.742118\n",
       "2013-07-11    556.714543\n",
       "2013-07-12    556.501555\n",
       "2013-07-15    557.766786\n",
       "2013-07-16    551.049572\n",
       "2013-07-17    554.834074\n",
       "2013-07-18    554.807049\n",
       "2013-07-19    557.614610\n",
       "2013-07-22    559.157022\n",
       "2013-07-23    559.325738\n",
       "2013-07-24    564.359148\n",
       "2013-07-25    558.070317\n",
       "2013-07-26    554.234920\n",
       "2013-07-29    551.364441\n",
       "2013-07-30    547.297249\n",
       "2013-07-31    547.856621\n",
       "2013-08-01    550.068070\n",
       "2013-08-02    558.624694\n",
       "2013-08-05    561.267255\n",
       "2013-08-06    564.436661\n",
       "2013-08-07    566.311866\n",
       "2013-08-08    567.915699\n",
       "2013-08-09    570.367266\n",
       "2013-08-12    571.935506\n",
       "2013-08-13    575.819209\n",
       "                 ...    \n",
       "2017-05-19    852.815159\n",
       "2017-05-22    852.032927\n",
       "2017-05-23    849.135805\n",
       "2017-05-24    847.388213\n",
       "2017-05-25    850.327990\n",
       "2017-05-26    847.786837\n",
       "2017-05-30    848.852048\n",
       "2017-05-31    842.249681\n",
       "2017-06-01    841.139208\n",
       "2017-06-02    840.580518\n",
       "2017-06-05    830.048580\n",
       "2017-06-06    825.257584\n",
       "2017-06-07    835.822788\n",
       "2017-06-08    831.096481\n",
       "2017-06-09    826.954657\n",
       "2017-06-12    826.484075\n",
       "2017-06-13    830.488866\n",
       "2017-06-14    825.487757\n",
       "2017-06-15    820.071879\n",
       "2017-06-16    824.469025\n",
       "2017-06-19    833.469366\n",
       "2017-06-20    828.331602\n",
       "2017-06-21    820.280294\n",
       "2017-06-22    818.724949\n",
       "2017-06-23    820.945758\n",
       "2017-06-26    816.760772\n",
       "2017-06-27    811.158830\n",
       "2017-06-28    814.600795\n",
       "2017-06-29    810.344363\n",
       "2017-06-30    806.478233\n",
       "Name: price, Length: 1008, dtype: float64"
      ]
     },
     "execution_count": 17,
     "metadata": {},
     "output_type": "execute_result"
    }
   ],
   "source": [
    "prices.shift(1)"
   ]
  },
  {
   "cell_type": "code",
   "execution_count": 24,
   "metadata": {},
   "outputs": [
    {
     "data": {
      "text/plain": [
       "13.506018258632299"
      ]
     },
     "execution_count": 24,
     "metadata": {},
     "output_type": "execute_result"
    }
   ],
   "source": [
    "np.power(prices - prices.shift(1), 2).ewm(1 - 0.01).mean()[-1]"
   ]
  }
 ],
 "metadata": {
  "kernelspec": {
   "display_name": "Python 3",
   "language": "python",
   "name": "python3"
  },
  "language_info": {
   "codemirror_mode": {
    "name": "ipython",
    "version": 3
   },
   "file_extension": ".py",
   "mimetype": "text/x-python",
   "name": "python",
   "nbconvert_exporter": "python",
   "pygments_lexer": "ipython3",
   "version": "3.6.5"
  }
 },
 "nbformat": 4,
 "nbformat_minor": 2
}
