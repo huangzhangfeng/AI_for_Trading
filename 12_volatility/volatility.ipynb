{
 "cells": [
  {
   "cell_type": "code",
   "execution_count": 1,
   "metadata": {},
   "outputs": [],
   "source": [
    "import pandas as pd\n",
    "import numpy as np\n",
    "\n",
    "def get_most_volatile(prices):\n",
    "    \"\"\"Return the ticker symbol for the most volatile stock.\n",
    "    \n",
    "    Parameters\n",
    "    ----------\n",
    "    prices : pandas.DataFrame\n",
    "        a pandas.DataFrame object with columns: ['ticker', 'date', 'price']\n",
    "    \n",
    "    Returns\n",
    "    -------\n",
    "    ticker : string\n",
    "        ticker symbol for the most volatile stock\n",
    "    \"\"\"\n",
    "    # TODO: Fill in this function.\n",
    "    return prices.groupby(['ticker']).std().sort_values(by = ['price']).index.values[-1]\n",
    "\n",
    "\n",
    "def test_run(filename='prices.csv'):\n",
    "    \"\"\"Test run get_most_volatile() with stock prices from a file.\"\"\"\n",
    "    prices = pd.read_csv(filename, parse_dates=['date'])\n",
    "    print(\"Most volatile stock: {}\".format(get_most_volatile(prices)))"
   ]
  },
  {
   "cell_type": "code",
   "execution_count": 2,
   "metadata": {},
   "outputs": [
    {
     "name": "stdout",
     "output_type": "stream",
     "text": [
      "Most volatile stock: B\n"
     ]
    }
   ],
   "source": [
    "test_run()"
   ]
  }
 ],
 "metadata": {
  "kernelspec": {
   "display_name": "Python 3",
   "language": "python",
   "name": "python3"
  },
  "language_info": {
   "codemirror_mode": {
    "name": "ipython",
    "version": 3
   },
   "file_extension": ".py",
   "mimetype": "text/x-python",
   "name": "python",
   "nbconvert_exporter": "python",
   "pygments_lexer": "ipython3",
   "version": "3.6.5"
  }
 },
 "nbformat": 4,
 "nbformat_minor": 2
}
